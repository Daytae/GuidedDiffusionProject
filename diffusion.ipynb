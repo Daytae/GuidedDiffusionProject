{
 "cells": [
  {
   "cell_type": "code",
   "execution_count": null,
   "id": "005a861f",
   "metadata": {},
   "outputs": [
    {
     "name": "stdout",
     "output_type": "stream",
     "text": [
      "Using: cuda\n"
     ]
    }
   ],
   "source": [
    "import pandas as pd\n",
    "import torch\n",
    "import numpy as np\n",
    "from tqdm import tqdm\n",
    "import matplotlib.pyplot as plt\n",
    "import importlib\n",
    "\n",
    "from load_and_sample import *\n",
    "\n",
    "torch.set_float32_matmul_precision(\"high\")\n",
    "\n",
    "device = 'cuda' if torch.cuda.is_available() else 'cpu'\n",
    "print(f\"Using: {device}\")\n",
    "\n"
   ]
  },
  {
   "cell_type": "code",
   "execution_count": null,
   "id": "dd215804",
   "metadata": {},
   "outputs": [],
   "source": [
    "# --- Model Parameters --- #\n",
    "\n",
    "latent_dim = 128\n",
    "unet_dim = 128\n",
    "train_batch_size = 16\n",
    "sample_batch_size = 4\n",
    "num_timesteps = 1000"
   ]
  },
  {
   "cell_type": "code",
   "execution_count": null,
   "id": "07caaffa",
   "metadata": {},
   "outputs": [],
   "source": [
    "# Read from the latent data file and put it into a dataloader"
   ]
  },
  {
   "cell_type": "code",
   "execution_count": null,
   "id": "fc076616",
   "metadata": {},
   "outputs": [],
   "source": [
    "# Load the VAE\n",
    "vae = load_vae_selfies(\"./saved_models/epoch=447-step=139328.ckpt\")\n"
   ]
  },
  {
   "cell_type": "code",
   "execution_count": null,
   "id": "e7d413d1",
   "metadata": {},
   "outputs": [],
   "source": [
    "# Initialize the diffusion model"
   ]
  },
  {
   "cell_type": "code",
   "execution_count": null,
   "id": "f4af5f03",
   "metadata": {},
   "outputs": [],
   "source": [
    "# Diffusion model training\n",
    "\n",
    "def train_diffusion(diffusion_model, dataloader, batch_size=train_batch_size, epochs=10, lr=1e-4):\n",
    "    model = diffusion_model.to(device)\n",
    "    optimizer = torch.optim.Adam(model.parameters(), lr=lr)\n",
    "\n",
    "    for epoch in range(epochs):\n",
    "        model.train()\n",
    "        epoch_loss = 0.0\n",
    "\n",
    "        progress_bar = tqdm(enumerate(dataloader), total=len(dataloader), desc=f\"Epoch {epoch}\")\n",
    "\n",
    "        for batch_idx, batch in progress_bar:\n",
    "            latent = batch\n"
   ]
  },
  {
   "cell_type": "code",
   "execution_count": null,
   "id": "af4dfcc1",
   "metadata": {},
   "outputs": [],
   "source": [
    "# Train the model\n",
    "\n",
    "\n",
    "\n",
    "def train_diffusion(diffusion_model, dataloader=dataloader, batch_size=train_batch_size, epochs=10, lr=1e-4, device=device):\n",
    "    model = diffusion_model.to(device)\n",
    "    optimizer = torch.optim.Adam(model.parameters(), lr=lr)\n",
    "\n",
    "    for epoch in range(epochs):\n",
    "        model.train()\n",
    "        epoch_loss = 0.0\n",
    "\n",
    "        progress_bar = tqdm(enumerate(dataloader), total=len(dataloader), desc=f\"Epoch {epoch}\")\n",
    "\n",
    "        for batch_idx, batch in progress_bar:\n",
    "            latent = batch['latent']\n",
    "            latent = latent.to(device)\n",
    "\n",
    "            # IMPORTANT: the dataloader stores objects of shape (b, n), but the\n",
    "            # UNET / diffusion want (b, 1, n)\n",
    "            latent = latent.reshape(batch_size, 1, latent_dim)\n",
    "\n",
    "            # When we sample, we will unshape this\n",
    "            optimizer.zero_grad()\n",
    "            loss = model(latent)\n",
    "            loss.backward()\n",
    "            optimizer.step()\n",
    "\n",
    "            epoch_loss += loss.item()\n",
    "\n",
    "            if batch_idx % 100 == 0:\n",
    "                print(f\"Epoch {epoch}, Batch: {batch_idx}: Batch Loss: {loss.item()}\")\n",
    "\n",
    "        torch.save({'model_state_dict': model.state_dict(), 'optimizer_state_dict': optimizer.state_dict()}, 'diff_checkpoints/best_model.pt')\n",
    "\n",
    "\n",
    "        print(f\"Epoch {epoch}, Average Loss: {epoch_loss / len(dataloader):.6f}\")\n"
   ]
  },
  {
   "cell_type": "code",
   "execution_count": null,
   "id": "83f4a85b",
   "metadata": {},
   "outputs": [
    {
     "name": "stdout",
     "output_type": "stream",
     "text": [
      "latent shape: torch.Size([16, 256])\n"
     ]
    }
   ],
   "source": [
    "# make the data loader\n",
    "dataloader = data_module.full_dataloader\n",
    "for batch in dataloader:\n",
    "    latent = batch['latent']\n",
    "    print(f\"latent shape: {latent.shape}\")\n",
    "    break"
   ]
  },
  {
   "cell_type": "code",
   "execution_count": null,
   "id": "9dfe6cf1",
   "metadata": {},
   "outputs": [],
   "source": [
    "def sample_diffusion(diffusion_model):\n",
    "    diffusion_model.eval()\n",
    "    with torch.no_grad():\n",
    "        latents = diffusion_model.sample(batch_size=sample_batch_size)\n",
    "        # latents are (b, 1, n), need to reshape\n",
    "        latents = latents.reshape(sample_batch_size, latent_dim)\n",
    "        return latents\n",
    "    \n"
   ]
  },
  {
   "cell_type": "code",
   "execution_count": null,
   "id": "9ccb3ca3",
   "metadata": {},
   "outputs": [
    {
     "name": "stdout",
     "output_type": "stream",
     "text": [
      "Using device: cuda\n"
     ]
    }
   ],
   "source": [
    "# Create diffusion model\n",
    "importlib.reload(guided_diffusion.guided_diffusion_1d)\n",
    "torch.cuda.empty_cache()\n",
    "\n",
    "epochs = 1\n",
    "print(f\"Using device: {device}\")\n",
    "\n",
    "\n",
    "unet_model = guided_diffusion.guided_diffusion_1d.Unet1D(\n",
    "    dim = unet_dim,\n",
    "    channels=1,\n",
    "    dim_mults=(1, 2, 4, 8)\n",
    ").to(device)\n",
    "\n",
    "diffusion_model = guided_diffusion.guided_diffusion_1d.GaussianDiffusion1D(\n",
    "    unet_model,\n",
    "    seq_length=latent_dim,\n",
    "    timesteps=num_timesteps,\n",
    "    objective='pred_v'\n",
    ").to(device)\n"
   ]
  }
 ],
 "metadata": {
  "kernelspec": {
   "display_name": ".venv",
   "language": "python",
   "name": "python3"
  },
  "language_info": {
   "codemirror_mode": {
    "name": "ipython",
    "version": 3
   },
   "file_extension": ".py",
   "mimetype": "text/x-python",
   "name": "python",
   "nbconvert_exporter": "python",
   "pygments_lexer": "ipython3",
   "version": "3.11.9"
  }
 },
 "nbformat": 4,
 "nbformat_minor": 5
}
