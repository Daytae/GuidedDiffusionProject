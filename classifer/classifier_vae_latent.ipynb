{
 "cells": [
  {
   "cell_type": "code",
   "execution_count": 1,
   "metadata": {},
   "outputs": [],
   "source": [
    "import torch\n",
    "import torch.nn as nn\n",
    "import numpy as np\n",
    "import torch.nn.functional as F\n",
    "import pandas as pd"
   ]
  },
  {
   "cell_type": "code",
   "execution_count": 2,
   "metadata": {},
   "outputs": [],
   "source": [
    "class EsmClassificationHead(nn.Module):\n",
    "    # slightly modified from the original ESM classification head\n",
    "    def __init__(self, input_dim=256):\n",
    "        super().__init__()\n",
    "        self.dense = nn.Linear(input_dim, 2048)\n",
    "        self.dropout = nn.Dropout(0)\n",
    "        self.dense2 = nn.Linear(2048, 2048)\n",
    "        self.dense3 = nn.Linear(2048, 2048)\n",
    "        self.out_proj = nn.Linear(2048, 2)\n",
    "    \n",
    "    def forward(self, x):\n",
    "        x = self.dropout(x)\n",
    "        x = self.dense(x)\n",
    "        x = F.silu(x)\n",
    "        x = self.dropout(x)\n",
    "        x = self.dense2(x)\n",
    "        x = F.silu(x)\n",
    "        x = self.dropout(x)\n",
    "        x = self.dense3(x)\n",
    "        x = F.silu(x)\n",
    "        x = self.dropout(x)\n",
    "        x = self.out_proj(x)\n",
    "        return x"
   ]
  },
  {
   "cell_type": "code",
   "execution_count": 3,
   "metadata": {},
   "outputs": [],
   "source": [
    "def load_model(model_path='best_model.pt'):\n",
    "    # Check for GPU availability\n",
    "    device = torch.device('cuda' if torch.cuda.is_available() else 'cpu')\n",
    "    print(f\"Using device: {device}\")\n",
    "    \n",
    "    # Load saved model data\n",
    "    checkpoint = torch.load(model_path, map_location=device)\n",
    "    \n",
    "    # Initialize model with saved input dimension\n",
    "    model = EsmClassificationHead(input_dim=256).to(device)\n",
    "    model.load_state_dict(checkpoint)\n",
    "    model.eval()\n",
    "    \n",
    "    return model, device\n",
    "\n",
    "def predict(model, embeddings, device, batch_size=100):\n",
    "    \n",
    "    # Convert to torch tensor\n",
    "    embeddings = torch.FloatTensor(embeddings)\n",
    "    predictions = []\n",
    "    all_logits = []\n",
    "    all_probs = []\n",
    "    \n",
    "    with torch.inference_mode():\n",
    "        \n",
    "        for i in range(0, len(embeddings), batch_size):\n",
    "            batch = embeddings[i:i + batch_size].to(device)\n",
    "            logits = model(batch)\n",
    "            probs = torch.softmax(logits, dim=1)\n",
    "            preds = torch.argmax(logits, dim=1)\n",
    "            \n",
    "            all_logits.extend(logits.cpu().numpy())\n",
    "            all_probs.extend(probs.cpu().numpy())\n",
    "            predictions.extend(preds.cpu().numpy())\n",
    "    \n",
    "    return (np.array(predictions), \n",
    "            np.array(all_logits), \n",
    "            np.array(all_probs))"
   ]
  },
  {
   "cell_type": "code",
   "execution_count": 4,
   "metadata": {},
   "outputs": [
    {
     "name": "stdout",
     "output_type": "stream",
     "text": [
      "Using device: cpu\n",
      "Accuracy: 0.91\n"
     ]
    }
   ],
   "source": [
    "model, device = load_model('best_model.pt')\n",
    "\n",
    "# Load your embeddings\n",
    "embeddings = np.load('test_peptides_latents.npy')  # Replace with your embedding file\n",
    "\n",
    "# load labels for validation\n",
    "labels = pd.read_csv('test_peptides.csv')['labels'].to_list()\n",
    "\n",
    "# Get predictions\n",
    "predictions, logits, probabilities = predict(model, embeddings, device)\n",
    "\n",
    "accuracy = np.mean(predictions == labels)\n",
    "\n",
    "print(f\"Accuracy: {accuracy:.2f}\")"
   ]
  },
  {
   "cell_type": "code",
   "execution_count": null,
   "metadata": {},
   "outputs": [
    {
     "data": {
      "text/plain": [
       "(1000, 256)"
      ]
     },
     "execution_count": 10,
     "metadata": {},
     "output_type": "execute_result"
    }
   ],
   "source": [
    "path = \"/Users/aldenrose/DiffusionProject/latents.csv\"\n",
    "df = pd.read_csv(path)\n",
    "df.to_numpy().shape"
   ]
  }
 ],
 "metadata": {
  "kernelspec": {
   "display_name": ".venv",
   "language": "python",
   "name": "python3"
  },
  "language_info": {
   "codemirror_mode": {
    "name": "ipython",
    "version": 3
   },
   "file_extension": ".py",
   "mimetype": "text/x-python",
   "name": "python",
   "nbconvert_exporter": "python",
   "pygments_lexer": "ipython3",
   "version": "3.12.1"
  }
 },
 "nbformat": 4,
 "nbformat_minor": 2
}
