{
 "cells": [
  {
   "cell_type": "markdown",
   "id": "d0b738db",
   "metadata": {},
   "source": [
    "Notebook for creating the Peptide dataset"
   ]
  },
  {
   "cell_type": "code",
   "execution_count": 43,
   "id": "3a2256f8",
   "metadata": {},
   "outputs": [
    {
     "name": "stdout",
     "output_type": "stream",
     "text": [
      "cuda\n"
     ]
    }
   ],
   "source": [
    "import pandas as pd\n",
    "import torch\n",
    "import numpy as np\n",
    "from peptidevae.load_vae import load_vae, vae_forward, vae_decode\n",
    "from tqdm import tqdm\n",
    "import pickle\n",
    "device = 'cuda' if torch.cuda.is_available() else 'cpu'\n",
    "print(device)"
   ]
  },
  {
   "cell_type": "code",
   "execution_count": null,
   "id": "fb3acc31",
   "metadata": {},
   "outputs": [
    {
     "name": "stderr",
     "output_type": "stream",
     "text": [
      "c:\\Users\\2023r\\Documents\\GuidedDiffusionProject\\peptidevae\\load_vae.py:36: FutureWarning: You are using `torch.load` with `weights_only=False` (the current default value), which uses the default pickle module implicitly. It is possible to construct malicious pickle data which will execute arbitrary code during unpickling (See https://github.com/pytorch/pytorch/blob/main/SECURITY.md#untrusted-models for more details). In a future release, the default value for `weights_only` will be flipped to `True`. This limits the functions that could be executed during unpickling. Arbitrary objects will no longer be allowed to be loaded via this mode unless they are explicitly allowlisted by the user via `torch.serialization.add_safe_globals`. We recommend you start setting `weights_only=True` for any use case where you don't have full control of the loaded file. Please open an issue on GitHub for any issues related to this experimental feature.\n",
      "  \n"
     ]
    }
   ],
   "source": [
    "# This takes a while\n",
    "vae, dataobj = load_vae(\"peptidevae/checkpoints/dim128_k1_kl0001_eff256_dff256_pious-sea-2_model_state_epoch_118.pkl\", dim=256, max_string_length=50)"
   ]
  },
  {
   "cell_type": "code",
   "execution_count": null,
   "id": "d4382644",
   "metadata": {},
   "outputs": [
    {
     "name": "stderr",
     "output_type": "stream",
     "text": [
      "c:\\Users\\2023r\\Documents\\GuidedDiffusionProject\\.venv\\Lib\\site-packages\\torch\\nn\\modules\\transformer.py:502: UserWarning: The PyTorch API of nested tensors is in prototype stage and will change in the near future. (Triggered internally at C:\\actions-runner\\_work\\pytorch\\pytorch\\builder\\windows\\pytorch\\aten\\src\\ATen\\NestedTensorImpl.cpp:180.)\n",
      "  output = torch._nested_tensor_from_mask(\n"
     ]
    },
    {
     "data": {
      "text/plain": [
       "(2, 256)"
      ]
     },
     "execution_count": 15,
     "metadata": {},
     "output_type": "execute_result"
    }
   ],
   "source": [
    "# Test VAE is workring\n",
    "test_seqs = [\"RWWLKMMLRMRI\", \"WKLKIRWRLRFLRLWFLWLWWWWFWLWRWK\"]\n",
    "with torch.no_grad():\n",
    "    latents = vae_forward(test_seqs, dataobj, vae)\n",
    "\n",
    "# two latents of shape 256\n",
    "latents[0].to('cpu').numpy().shape"
   ]
  },
  {
   "cell_type": "code",
   "execution_count": null,
   "id": "560aec99",
   "metadata": {},
   "outputs": [],
   "source": [
    "PEPTIDE_10M_LABELED = \"data/Extinct_labels_10M.csv\"\n",
    "peptide_10m_df = pd.read_csv(PEPTIDE_10M_LABELED)\n",
    "sequences, labels = peptide_10m_df['text'], peptide_10m_df['labels']\n"
   ]
  },
  {
   "cell_type": "code",
   "execution_count": null,
   "id": "b691f677",
   "metadata": {},
   "outputs": [],
   "source": [
    "\n",
    "# Takes in the (peptide_seq, labels) dataset and creates a (latent, labels) dataset with the vae\n",
    "def create_latent_dataset(sequences, labels, vae=vae, dataobj=dataobj, batch_size=256, output_path=\"data/latent_dataset.pkl\", device=device):\n",
    "    '''\n",
    "        sequences: list of peptide sequences\n",
    "        labels: list of labels\n",
    "        vae, dataobj: the VAE we are usign to forward\n",
    "    '''\n",
    "\n",
    "    all_latents = []\n",
    "\n",
    "    vae.eval()\n",
    "    with torch.no_grad():\n",
    "        for i in tqdm(range(0, len(sequences), batch_size)):\n",
    "            batch_seqs = sequences[i:i+batch_size]\n",
    "\n",
    "            latents, _ = vae_forward(batch_seqs, dataobj, vae)\n",
    "            all_latents.append(latents.to('cpu'))\n",
    "    \n",
    "    all_latents = np.concatenate(all_latents, axis=0)\n",
    "    dataset_dict = {\n",
    "        'latent': all_latents,\n",
    "        'labels': labels\n",
    "    }\n",
    "\n",
    "\n",
    "    with open(output_path, 'wb') as f:\n",
    "        pickle.dump(dataset_dict, f)\n",
    "\n",
    "    print(f\"Saved {len(sequences)} peptide entries with sequences, latent codes, and labels to {output_path}\")\n",
    "\n",
    "    return dataset_dict\n",
    "\n"
   ]
  },
  {
   "cell_type": "code",
   "execution_count": null,
   "id": "60a54ea7",
   "metadata": {},
   "outputs": [
    {
     "name": "stderr",
     "output_type": "stream",
     "text": [
      "100%|██████████| 40136/40136 [21:56<00:00, 30.49it/s]   \n"
     ]
    },
    {
     "name": "stdout",
     "output_type": "stream",
     "text": [
      "Saved 10274723 peptide entries with sequences, latent codes, and labels to data/latent_dataset.pkl\n"
     ]
    },
    {
     "data": {
      "text/plain": [
       "{'latent': array([[-0.31667215,  0.14633523, -0.26224312, ...,  0.05510085,\n",
       "         -0.3740702 , -0.38232166],\n",
       "        [-0.07624465,  0.17372577, -0.14082399, ..., -0.05611906,\n",
       "          0.00884153,  0.02623769],\n",
       "        [ 0.01839117,  0.36293083, -0.08525313, ...,  0.32207313,\n",
       "         -0.10469632,  0.04467239],\n",
       "        ...,\n",
       "        [ 0.35400948, -0.32883057, -0.08890741, ...,  0.07047714,\n",
       "         -0.5032545 ,  0.41565666],\n",
       "        [ 0.06051294, -0.08147617,  0.06925601, ..., -0.1951151 ,\n",
       "         -0.08448125, -0.22564164],\n",
       "        [-0.52381885, -0.30431655,  0.19177069, ...,  0.14462498,\n",
       "         -0.0253647 , -0.11564276]], shape=(10274723, 256), dtype=float32),\n",
       " 'labels': array([1, 0, 1, ..., 0, 1, 0], shape=(10274723,))}"
      ]
     },
     "execution_count": 76,
     "metadata": {},
     "output_type": "execute_result"
    }
   ],
   "source": [
    "# Create the whole latent dataset\n",
    "# Should never need to run this again\n",
    "\n",
    "# create_latent_dataset(sequences.to_numpy(), labels.to_numpy())"
   ]
  },
  {
   "cell_type": "code",
   "execution_count": null,
   "id": "77a8ed73",
   "metadata": {},
   "outputs": [
    {
     "name": "stdout",
     "output_type": "stream",
     "text": [
      "Using: cuda\n",
      "Using: cuda\n",
      "Dataset split: 9247250 training samples, 1027473 validation samples\n"
     ]
    }
   ],
   "source": [
    "import importlib\n",
    "import peptide_dataset\n",
    "importlib.reload(peptide_dataset)\n",
    "\n",
    "data_module = peptide_dataset.LatentDataModule()\n",
    "\n",
    "# Should take like ~10 seconds w/ 10M examples"
   ]
  }
 ],
 "metadata": {
  "kernelspec": {
   "display_name": ".venv",
   "language": "python",
   "name": "python3"
  },
  "language_info": {
   "codemirror_mode": {
    "name": "ipython",
    "version": 3
   },
   "file_extension": ".py",
   "mimetype": "text/x-python",
   "name": "python",
   "nbconvert_exporter": "python",
   "pygments_lexer": "ipython3",
   "version": "3.11.9"
  }
 },
 "nbformat": 4,
 "nbformat_minor": 5
}
